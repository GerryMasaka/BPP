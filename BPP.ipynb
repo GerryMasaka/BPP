{
  "cells": [
    {
      "cell_type": "markdown",
      "metadata": {
        "id": "view-in-github",
        "colab_type": "text"
      },
      "source": [
        "<a href=\"https://colab.research.google.com/github/GerryMasaka/BPP/blob/main/BPP.ipynb\" target=\"_parent\"><img src=\"https://colab.research.google.com/assets/colab-badge.svg\" alt=\"Open In Colab\"/></a>"
      ]
    },
    {
      "cell_type": "code",
      "execution_count": null,
      "metadata": {
        "id": "FWLvIsxGszYo"
      },
      "outputs": [],
      "source": [
        "import numpy as np\n",
        "!pip install --upgrade pandas-datareader\n"
      ]
    },
    {
      "cell_type": "code",
      "source": [
        "!pip install yfinance\n",
        "from pandas_datareader import data as pdr\n",
        "import yfinance as yf\n",
        "yf.pdr_override()"
      ],
      "metadata": {
        "colab": {
          "base_uri": "https://localhost:8080/"
        },
        "id": "WpxN09Pd_WPC",
        "outputId": "c0dd5b0e-4781-4377-c628-2d9860888c23"
      },
      "execution_count": null,
      "outputs": [
        {
          "output_type": "stream",
          "name": "stdout",
          "text": [
            "Looking in indexes: https://pypi.org/simple, https://us-python.pkg.dev/colab-wheels/public/simple/\n",
            "Requirement already satisfied: yfinance in /usr/local/lib/python3.8/dist-packages (0.2.1)\n",
            "Requirement already satisfied: cryptography>=3.3.2 in /usr/local/lib/python3.8/dist-packages (from yfinance) (38.0.4)\n",
            "Requirement already satisfied: multitasking>=0.0.7 in /usr/local/lib/python3.8/dist-packages (from yfinance) (0.0.11)\n",
            "Requirement already satisfied: lxml>=4.9.1 in /usr/local/lib/python3.8/dist-packages (from yfinance) (4.9.2)\n",
            "Requirement already satisfied: pytz>=2022.5 in /usr/local/lib/python3.8/dist-packages (from yfinance) (2022.6)\n",
            "Requirement already satisfied: pandas>=1.3.0 in /usr/local/lib/python3.8/dist-packages (from yfinance) (1.3.5)\n",
            "Requirement already satisfied: frozendict>=2.3.4 in /usr/local/lib/python3.8/dist-packages (from yfinance) (2.3.4)\n",
            "Requirement already satisfied: requests>=2.26 in /usr/local/lib/python3.8/dist-packages (from yfinance) (2.28.1)\n",
            "Requirement already satisfied: beautifulsoup4>=4.11.1 in /usr/local/lib/python3.8/dist-packages (from yfinance) (4.11.1)\n",
            "Requirement already satisfied: appdirs>=1.4.4 in /usr/local/lib/python3.8/dist-packages (from yfinance) (1.4.4)\n",
            "Requirement already satisfied: html5lib>=1.1 in /usr/local/lib/python3.8/dist-packages (from yfinance) (1.1)\n",
            "Requirement already satisfied: numpy>=1.16.5 in /usr/local/lib/python3.8/dist-packages (from yfinance) (1.21.6)\n",
            "Requirement already satisfied: soupsieve>1.2 in /usr/local/lib/python3.8/dist-packages (from beautifulsoup4>=4.11.1->yfinance) (2.3.2.post1)\n",
            "Requirement already satisfied: cffi>=1.12 in /usr/local/lib/python3.8/dist-packages (from cryptography>=3.3.2->yfinance) (1.15.1)\n",
            "Requirement already satisfied: pycparser in /usr/local/lib/python3.8/dist-packages (from cffi>=1.12->cryptography>=3.3.2->yfinance) (2.21)\n",
            "Requirement already satisfied: webencodings in /usr/local/lib/python3.8/dist-packages (from html5lib>=1.1->yfinance) (0.5.1)\n",
            "Requirement already satisfied: six>=1.9 in /usr/local/lib/python3.8/dist-packages (from html5lib>=1.1->yfinance) (1.15.0)\n",
            "Requirement already satisfied: python-dateutil>=2.7.3 in /usr/local/lib/python3.8/dist-packages (from pandas>=1.3.0->yfinance) (2.8.2)\n",
            "Requirement already satisfied: charset-normalizer<3,>=2 in /usr/local/lib/python3.8/dist-packages (from requests>=2.26->yfinance) (2.1.1)\n",
            "Requirement already satisfied: certifi>=2017.4.17 in /usr/local/lib/python3.8/dist-packages (from requests>=2.26->yfinance) (2022.12.7)\n",
            "Requirement already satisfied: urllib3<1.27,>=1.21.1 in /usr/local/lib/python3.8/dist-packages (from requests>=2.26->yfinance) (1.24.3)\n",
            "Requirement already satisfied: idna<4,>=2.5 in /usr/local/lib/python3.8/dist-packages (from requests>=2.26->yfinance) (2.10)\n"
          ]
        }
      ]
    },
    {
      "cell_type": "code",
      "execution_count": null,
      "metadata": {
        "id": "heozTeh0758g"
      },
      "outputs": [],
      "source": [
        "import matplotlib.pyplot as plt\n",
        "import plotly.express as px\n",
        "import plotly.graph_objs as go\n",
        "import pandas as pd\n",
        "import pandas_datareader as web\n",
        "import datetime as dt\n",
        "import math\n",
        "from sklearn.preprocessing import MinMaxScaler\n",
        "from tensorflow.keras.layers import Dense, Dropout, LSTM\n",
        "from tensorflow.keras.models import Sequential\n",
        "from sklearn import metrics\n",
        "from keras.models import Sequential\n",
        "from tensorflow.keras import layers\n",
        "from tensorflow import keras\n",
        "plt.style.use('fivethirtyeight')"
      ]
    },
    {
      "cell_type": "code",
      "execution_count": null,
      "metadata": {
        "id": "74Db3hmk-PPc"
      },
      "outputs": [],
      "source": [
        "crypto_currency = 'BTC'\n",
        "against_currency = 'USD'\n",
        "start = dt.datetime (2018,1,1)\n",
        "end =  dt.datetime.now()\n"
      ]
    },
    {
      "cell_type": "code",
      "execution_count": null,
      "metadata": {
        "id": "eivFwI7A-m1I",
        "colab": {
          "base_uri": "https://localhost:8080/"
        },
        "outputId": "62401059-d13a-4bcc-b10f-ab5aca57738c"
      },
      "outputs": [
        {
          "output_type": "stream",
          "name": "stdout",
          "text": [
            "\r[*********************100%***********************]  1 of 1 completed\n"
          ]
        }
      ],
      "source": [
        "#data = web.DataReader(f'{crypto_currency}-{against_currency}', 'yahoo', start, end)\n",
        "#data = yf.download('BTC', start, end)\n",
        "data = yf.download(tickers='BTC-USD', period = '700d', interval = '1d')\n"
      ]
    },
    {
      "cell_type": "code",
      "source": [
        "#remove rows with missing values\n",
        "data.dropna(inplace=True)"
      ],
      "metadata": {
        "id": "nKNLhBoWf_pX"
      },
      "execution_count": null,
      "outputs": []
    },
    {
      "cell_type": "code",
      "execution_count": null,
      "metadata": {
        "id": "WIKovEROCJXy",
        "colab": {
          "base_uri": "https://localhost:8080/"
        },
        "outputId": "e94f04ac-720c-4ce8-f4da-7b021a38d22e"
      },
      "outputs": [
        {
          "output_type": "stream",
          "name": "stdout",
          "text": [
            "                    Open          High           Low         Close  \\\n",
            "Date                                                                 \n",
            "2021-01-20  36050.113281  36378.328125  33570.476562  35547.750000   \n",
            "2021-01-21  35549.398438  35552.679688  30250.750000  30825.699219   \n",
            "2021-01-22  30817.625000  33811.851562  28953.373047  33005.761719   \n",
            "2021-01-23  32985.757812  33360.976562  31493.160156  32067.642578   \n",
            "2021-01-24  32064.376953  32944.007812  31106.685547  32289.378906   \n",
            "\n",
            "               Adj Close       Volume  \n",
            "Date                                   \n",
            "2021-01-20  35547.750000  66834573161  \n",
            "2021-01-21  30825.699219  75643067688  \n",
            "2021-01-22  33005.761719  77207272511  \n",
            "2021-01-23  32067.642578  48354737975  \n",
            "2021-01-24  32289.378906  48643830599  \n"
          ]
        }
      ],
      "source": [
        "print(data.head())"
      ]
    },
    {
      "cell_type": "code",
      "execution_count": null,
      "metadata": {
        "id": "rKwHN2pqMDUo",
        "colab": {
          "base_uri": "https://localhost:8080/"
        },
        "outputId": "d0a853af-fe2d-4b81-9df2-fa1d70146c39"
      },
      "outputs": [
        {
          "output_type": "execute_result",
          "data": {
            "text/plain": [
              "(639, 60, 1)"
            ]
          },
          "metadata": {},
          "execution_count": 59
        }
      ],
      "source": [
        "#training preparation\n",
        "\n",
        "close_prices = data['Close']\n",
        "values = close_prices.values \n",
        "training_data_len = math.ceil(len(values)* 0.8)\n",
        "\n",
        "scaler = MinMaxScaler(feature_range=(0,1))\n",
        "scaled_data = scaler.fit_transform(data['Close'].values.reshape(-1,1))\n",
        "train_data = scaled_data[0: training_data_len, :]\n",
        "\n",
        "prediction_days = 60\n",
        "future_day = 1\n",
        "\n",
        "x_train, y_train = [], []\n",
        "\n",
        "for x in range(prediction_days, len(scaled_data) - future_day):\n",
        "  x_train.append(scaled_data[x-prediction_days:x, 0])\n",
        "  y_train.append(scaled_data[x + future_day, 0])\n",
        "\n",
        "\n",
        "x_train, y_train = np.array(x_train), np.array(y_train)\n",
        "#x_train, y_train = np.atleast_3d(x_train, y_train)\n",
        "x_train = np.reshape(x_train, (x_train.shape[0], x_train.shape[1], 1))\n",
        "x_train.shape"
      ]
    },
    {
      "cell_type": "code",
      "execution_count": null,
      "metadata": {
        "id": "XSjPbmr0iL6_",
        "colab": {
          "base_uri": "https://localhost:8080/"
        },
        "outputId": "3007a3ff-1d02-4dc2-dc16-68ee884362c0"
      },
      "outputs": [
        {
          "output_type": "execute_result",
          "data": {
            "text/plain": [
              "(140, 60, 1)"
            ]
          },
          "metadata": {},
          "execution_count": 60
        }
      ],
      "source": [
        "#test set preparation\n",
        "test_data = scaled_data[training_data_len-60: , : ]\n",
        "x_test = []\n",
        "y_test = values[training_data_len:]\n",
        "\n",
        "for i in range(60, len(test_data)):\n",
        "  x_test.append(test_data[i-60:i, 0])\n",
        "\n",
        "x_test = np.array(x_test)\n",
        "#x_test= np.atleast_3d(x_test)\n",
        "x_test = np.reshape(x_test, (x_test.shape[0], x_test.shape[1], 1))\n",
        "x_test.shape"
      ]
    },
    {
      "cell_type": "code",
      "execution_count": null,
      "metadata": {
        "id": "eYkdFK7sRlEw",
        "colab": {
          "base_uri": "https://localhost:8080/"
        },
        "outputId": "ab3eece1-f4f2-4397-bd15-ad2c152dcf57"
      },
      "outputs": [
        {
          "output_type": "stream",
          "name": "stdout",
          "text": [
            "Model: \"sequential_2\"\n",
            "_________________________________________________________________\n",
            " Layer (type)                Output Shape              Param #   \n",
            "=================================================================\n",
            " lstm_6 (LSTM)               (None, 60, 50)            10400     \n",
            "                                                                 \n",
            " dropout_6 (Dropout)         (None, 60, 50)            0         \n",
            "                                                                 \n",
            " lstm_7 (LSTM)               (None, 60, 50)            20200     \n",
            "                                                                 \n",
            " dropout_7 (Dropout)         (None, 60, 50)            0         \n",
            "                                                                 \n",
            " lstm_8 (LSTM)               (None, 50)                20200     \n",
            "                                                                 \n",
            " dropout_8 (Dropout)         (None, 50)                0         \n",
            "                                                                 \n",
            " dense_2 (Dense)             (None, 1)                 51        \n",
            "                                                                 \n",
            "=================================================================\n",
            "Total params: 50,851\n",
            "Trainable params: 50,851\n",
            "Non-trainable params: 0\n",
            "_________________________________________________________________\n"
          ]
        }
      ],
      "source": [
        "#neural network\n",
        "model = keras.Sequential()\n",
        "model.add(LSTM(units= 50, return_sequences=True, input_shape=(x_train.shape[1], 1)))\n",
        "model.add(Dropout(0.2))\n",
        "model.add(LSTM(units= 50, return_sequences=True))\n",
        "model.add(Dropout(0.2))\n",
        "model.add(LSTM(units=50))\n",
        "model.add(Dropout(0.2))\n",
        "model.add(layers.Dense(1))\n",
        "model.summary()\n"
      ]
    },
    {
      "cell_type": "code",
      "source": [
        "model.compile(optimizer='adam', loss='mean_squared_error')\n",
        "history=model.fit(x_train, y_train, epochs=40, batch_size=32)"
      ],
      "metadata": {
        "colab": {
          "base_uri": "https://localhost:8080/"
        },
        "id": "jiKjg43uL6NE",
        "outputId": "d7dbbe8a-926a-4c16-9e84-43717a60c4ff"
      },
      "execution_count": null,
      "outputs": [
        {
          "output_type": "stream",
          "name": "stdout",
          "text": [
            "Epoch 1/40\n",
            "20/20 [==============================] - 10s 147ms/step - loss: 0.0488\n",
            "Epoch 2/40\n",
            "20/20 [==============================] - 4s 189ms/step - loss: 0.0136\n",
            "Epoch 3/40\n",
            "20/20 [==============================] - 4s 201ms/step - loss: 0.0105\n",
            "Epoch 4/40\n",
            "20/20 [==============================] - 4s 184ms/step - loss: 0.0092\n",
            "Epoch 5/40\n",
            "20/20 [==============================] - 4s 204ms/step - loss: 0.0089\n",
            "Epoch 6/40\n",
            "20/20 [==============================] - 3s 169ms/step - loss: 0.0090\n",
            "Epoch 7/40\n",
            "20/20 [==============================] - 2s 98ms/step - loss: 0.0090\n",
            "Epoch 8/40\n",
            "20/20 [==============================] - 2s 97ms/step - loss: 0.0074\n",
            "Epoch 9/40\n",
            "20/20 [==============================] - 2s 95ms/step - loss: 0.0081\n",
            "Epoch 10/40\n",
            "20/20 [==============================] - 2s 98ms/step - loss: 0.0083\n",
            "Epoch 11/40\n",
            "20/20 [==============================] - 2s 96ms/step - loss: 0.0070\n",
            "Epoch 12/40\n",
            "20/20 [==============================] - 2s 96ms/step - loss: 0.0063\n",
            "Epoch 13/40\n",
            "20/20 [==============================] - 2s 94ms/step - loss: 0.0067\n",
            "Epoch 14/40\n",
            "20/20 [==============================] - 2s 97ms/step - loss: 0.0065\n",
            "Epoch 15/40\n",
            "20/20 [==============================] - 2s 95ms/step - loss: 0.0069\n",
            "Epoch 16/40\n",
            "20/20 [==============================] - 2s 95ms/step - loss: 0.0063\n",
            "Epoch 17/40\n",
            "20/20 [==============================] - 2s 93ms/step - loss: 0.0060\n",
            "Epoch 18/40\n",
            "20/20 [==============================] - 2s 94ms/step - loss: 0.0072\n",
            "Epoch 19/40\n",
            "20/20 [==============================] - 2s 96ms/step - loss: 0.0061\n",
            "Epoch 20/40\n",
            "20/20 [==============================] - 2s 94ms/step - loss: 0.0059\n",
            "Epoch 21/40\n",
            "20/20 [==============================] - 2s 94ms/step - loss: 0.0054\n",
            "Epoch 22/40\n",
            "20/20 [==============================] - 2s 94ms/step - loss: 0.0067\n",
            "Epoch 23/40\n",
            "20/20 [==============================] - 2s 94ms/step - loss: 0.0057\n",
            "Epoch 24/40\n",
            "20/20 [==============================] - 2s 97ms/step - loss: 0.0054\n",
            "Epoch 25/40\n",
            "20/20 [==============================] - 2s 97ms/step - loss: 0.0051\n",
            "Epoch 26/40\n",
            "20/20 [==============================] - 2s 95ms/step - loss: 0.0055\n",
            "Epoch 27/40\n",
            "20/20 [==============================] - 2s 97ms/step - loss: 0.0051\n",
            "Epoch 28/40\n",
            "20/20 [==============================] - 2s 94ms/step - loss: 0.0048\n",
            "Epoch 29/40\n",
            "20/20 [==============================] - 2s 94ms/step - loss: 0.0052\n",
            "Epoch 30/40\n",
            "20/20 [==============================] - 2s 94ms/step - loss: 0.0053\n",
            "Epoch 31/40\n",
            "20/20 [==============================] - 2s 96ms/step - loss: 0.0050\n",
            "Epoch 32/40\n",
            "20/20 [==============================] - 2s 97ms/step - loss: 0.0048\n",
            "Epoch 33/40\n",
            "20/20 [==============================] - 2s 96ms/step - loss: 0.0049\n",
            "Epoch 34/40\n",
            "20/20 [==============================] - 2s 95ms/step - loss: 0.0054\n",
            "Epoch 35/40\n",
            "20/20 [==============================] - 2s 95ms/step - loss: 0.0049\n",
            "Epoch 36/40\n",
            "20/20 [==============================] - 2s 94ms/step - loss: 0.0048\n",
            "Epoch 37/40\n",
            "20/20 [==============================] - 2s 97ms/step - loss: 0.0048\n",
            "Epoch 38/40\n",
            "20/20 [==============================] - 2s 97ms/step - loss: 0.0062\n",
            "Epoch 39/40\n",
            "20/20 [==============================] - 2s 95ms/step - loss: 0.0053\n",
            "Epoch 40/40\n",
            "20/20 [==============================] - 2s 97ms/step - loss: 0.0043\n"
          ]
        }
      ]
    },
    {
      "cell_type": "code",
      "source": [
        "#loss_per_epoch = model.history.history['loss']\n",
        "#plt.plot(range(len(loss_per_epoch)),loss_per_epoch)"
      ],
      "metadata": {
        "id": "2RvujMXrw_BE"
      },
      "execution_count": null,
      "outputs": []
    },
    {
      "cell_type": "code",
      "execution_count": null,
      "metadata": {
        "id": "5_8YYIcoi60e",
        "colab": {
          "base_uri": "https://localhost:8080/"
        },
        "outputId": "b86857d9-2540-4a8f-de41-798afc5905ef"
      },
      "outputs": [
        {
          "output_type": "stream",
          "name": "stdout",
          "text": [
            "5/5 [==============================] - 2s 25ms/step\n"
          ]
        },
        {
          "output_type": "execute_result",
          "data": {
            "text/plain": [
              "206.60532924107142"
            ]
          },
          "metadata": {},
          "execution_count": 64
        }
      ],
      "source": [
        "#model evaluation\n",
        "predictions = model.predict(x_test)\n",
        "predictions = scaler.inverse_transform(predictions)\n",
        "rmse = np.sqrt(np.mean(predictions - y_test)**2)\n",
        "rmse"
      ]
    },
    {
      "cell_type": "code",
      "execution_count": null,
      "metadata": {
        "id": "XgUEJ0cHUaof",
        "colab": {
          "base_uri": "https://localhost:8080/",
          "height": 662
        },
        "outputId": "795bcb67-1b42-417f-9169-07e4d560f928"
      },
      "outputs": [
        {
          "output_type": "stream",
          "name": "stderr",
          "text": [
            "<ipython-input-65-7d8be21254e2>:4: SettingWithCopyWarning: \n",
            "A value is trying to be set on a copy of a slice from a DataFrame.\n",
            "Try using .loc[row_indexer,col_indexer] = value instead\n",
            "\n",
            "See the caveats in the documentation: https://pandas.pydata.org/pandas-docs/stable/user_guide/indexing.html#returning-a-view-versus-a-copy\n",
            "  validation['Predictions'] = predictions\n"
          ]
        },
        {
          "output_type": "display_data",
          "data": {
            "text/plain": [
              "<Figure size 1152x576 with 1 Axes>"
            ],
            "image/png": "[encoded data removed]"
          },
          "metadata": {}
        }
      ],
      "source": [
        "data = data.filter(['Close'])\n",
        "train = data[:training_data_len]\n",
        "validation = data[training_data_len:]\n",
        "validation['Predictions'] = predictions\n",
        "plt.figure(figsize=(16,8))\n",
        "plt.title('Model')\n",
        "plt.xlabel('Date')\n",
        "plt.ylabel('Close Price USD ($)')\n",
        "plt.plot(train)\n",
        "plt.plot(validation[['Close', 'Predictions']])\n",
        "plt.legend(['Train', 'Val', 'Predictions'], loc='upper right')\n",
        "plt.show()"
      ]
    },
    {
      "cell_type": "code",
      "source": [
        "validation"
      ],
      "metadata": {
        "id": "kT2g9XOS2S7z",
        "colab": {
          "base_uri": "https://localhost:8080/",
          "height": 440
        },
        "outputId": "07dacb29-792d-404f-c0ee-a27254ee0bd3"
      },
      "execution_count": null,
      "outputs": [
        {
          "output_type": "execute_result",
          "data": {
            "text/plain": [
              "                   Close   Predictions\n",
              "Date                                  \n",
              "2022-08-03  22846.507812  22685.501953\n",
              "2022-08-04  22630.957031  22732.759766\n",
              "2022-08-05  23289.314453  22711.390625\n",
              "2022-08-06  22961.279297  22674.220703\n",
              "2022-08-07  23175.890625  22629.474609\n",
              "...                  ...           ...\n",
              "2022-12-16  16647.484375  16844.527344\n",
              "2022-12-17  16795.091797  16873.259766\n",
              "2022-12-18  16757.976562  16850.787109\n",
              "2022-12-19  16439.679688  16788.099609\n",
              "2022-12-20  16809.339844  16687.468750\n",
              "\n",
              "[140 rows x 2 columns]"
            ],
            "text/html": [
              "\n",
              "  <div id=\"df-f344ba1e-566d-415d-81df-5fda896dd85e\">\n",
              "    <div class=\"colab-df-container\">\n",
              "      <div>\n",
              "<style scoped>\n",
              "    .dataframe tbody tr th:only-of-type {\n",
              "        vertical-align: middle;\n",
              "    }\n",
              "\n",
              "    .dataframe tbody tr th {\n",
              "        vertical-align: top;\n",
              "    }\n",
              "\n",
              "    .dataframe thead th {\n",
              "        text-align: right;\n",
              "    }\n",
              "</style>\n",
              "<table border=\"1\" class=\"dataframe\">\n",
              "  <thead>\n",
              "    <tr style=\"text-align: right;\">\n",
              "      <th></th>\n",
              "      <th>Close</th>\n",
              "      <th>Predictions</th>\n",
              "    </tr>\n",
              "    <tr>\n",
              "      <th>Date</th>\n",
              "      <th></th>\n",
              "      <th></th>\n",
              "    </tr>\n",
              "  </thead>\n",
              "  <tbody>\n",
              "    <tr>\n",
              "      <th>2022-08-03</th>\n",
              "      <td>22846.507812</td>\n",
              "      <td>22685.501953</td>\n",
              "    </tr>\n",
              "    <tr>\n",
              "      <th>2022-08-04</th>\n",
              "      <td>22630.957031</td>\n",
              "      <td>22732.759766</td>\n",
              "    </tr>\n",
              "    <tr>\n",
              "      <th>2022-08-05</th>\n",
              "      <td>23289.314453</td>\n",
              "      <td>22711.390625</td>\n",
              "    </tr>\n",
              "    <tr>\n",
              "      <th>2022-08-06</th>\n",
              "      <td>22961.279297</td>\n",
              "      <td>22674.220703</td>\n",
              "    </tr>\n",
              "    <tr>\n",
              "      <th>2022-08-07</th>\n",
              "      <td>23175.890625</td>\n",
              "      <td>22629.474609</td>\n",
              "    </tr>\n",
              "    <tr>\n",
              "      <th>...</th>\n",
              "      <td>...</td>\n",
              "      <td>...</td>\n",
              "    </tr>\n",
              "    <tr>\n",
              "      <th>2022-12-16</th>\n",
              "      <td>16647.484375</td>\n",
              "      <td>16844.527344</td>\n",
              "    </tr>\n",
              "    <tr>\n",
              "      <th>2022-12-17</th>\n",
              "      <td>16795.091797</td>\n",
              "      <td>16873.259766</td>\n",
              "    </tr>\n",
              "    <tr>\n",
              "      <th>2022-12-18</th>\n",
              "      <td>16757.976562</td>\n",
              "      <td>16850.787109</td>\n",
              "    </tr>\n",
              "    <tr>\n",
              "      <th>2022-12-19</th>\n",
              "      <td>16439.679688</td>\n",
              "      <td>16788.099609</td>\n",
              "    </tr>\n",
              "    <tr>\n",
              "      <th>2022-12-20</th>\n",
              "      <td>16809.339844</td>\n",
              "      <td>16687.468750</td>\n",
              "    </tr>\n",
              "  </tbody>\n",
              "</table>\n",
              "<p>140 rows × 2 columns</p>\n",
              "</div>\n",
              "      <button class=\"colab-df-convert\" onclick=\"convertToInteractive('df-f344ba1e-566d-415d-81df-5fda896dd85e')\"\n",
              "              title=\"Convert this dataframe to an interactive table.\"\n",
              "              style=\"display:none;\">\n",
              "        \n",
              "  <svg xmlns=\"http://www.w3.org/2000/svg\" height=\"24px\"viewBox=\"0 0 24 24\"\n",
              "       width=\"24px\">\n",
              "    <path d=\"M0 0h24v24H0V0z\" fill=\"none\"/>\n",
              "    <path d=\"M18.56 5.44l.94 2.06.94-2.06 2.06-.94-2.06-.94-.94-2.06-.94 2.06-2.06.94zm-11 1L8.5 8.5l.94-2.06 2.06-.94-2.06-.94L8.5 2.5l-.94 2.06-2.06.94zm10 10l.94 2.06.94-2.06 2.06-.94-2.06-.94-.94-2.06-.94 2.06-2.06.94z\"/><path d=\"M17.41 7.96l-1.37-1.37c-.4-.4-.92-.59-1.43-.59-.52 0-1.04.2-1.43.59L10.3 9.45l-7.72 7.72c-.78.78-.78 2.05 0 2.83L4 21.41c.39.39.9.59 1.41.59.51 0 1.02-.2 1.41-.59l7.78-7.78 2.81-2.81c.8-.78.8-2.07 0-2.86zM5.41 20L4 18.59l7.72-7.72 1.47 1.35L5.41 20z\"/>\n",
              "  </svg>\n",
              "      </button>\n",
              "      \n",
              "  <style>\n",
              "    .colab-df-container {\n",
              "      display:flex;\n",
              "      flex-wrap:wrap;\n",
              "      gap: 12px;\n",
              "    }\n",
              "\n",
              "    .colab-df-convert {\n",
              "      background-color: #E8F0FE;\n",
              "      border: none;\n",
              "      border-radius: 50%;\n",
              "      cursor: pointer;\n",
              "      display: none;\n",
              "      fill: #1967D2;\n",
              "      height: 32px;\n",
              "      padding: 0 0 0 0;\n",
              "      width: 32px;\n",
              "    }\n",
              "\n",
              "    .colab-df-convert:hover {\n",
              "      background-color: #E2EBFA;\n",
              "      box-shadow: 0px 1px 2px rgba(60, 64, 67, 0.3), 0px 1px 3px 1px rgba(60, 64, 67, 0.15);\n",
              "      fill: #174EA6;\n",
              "    }\n",
              "\n",
              "    [theme=dark] .colab-df-convert {\n",
              "      background-color: #3B4455;\n",
              "      fill: #D2E3FC;\n",
              "    }\n",
              "\n",
              "    [theme=dark] .colab-df-convert:hover {\n",
              "      background-color: #434B5C;\n",
              "      box-shadow: 0px 1px 3px 1px rgba(0, 0, 0, 0.15);\n",
              "      filter: drop-shadow(0px 1px 2px rgba(0, 0, 0, 0.3));\n",
              "      fill: #FFFFFF;\n",
              "    }\n",
              "  </style>\n",
              "\n",
              "      <script>\n",
              "        const buttonEl =\n",
              "          document.querySelector('#df-f344ba1e-566d-415d-81df-5fda896dd85e button.colab-df-convert');\n",
              "        buttonEl.style.display =\n",
              "          google.colab.kernel.accessAllowed ? 'block' : 'none';\n",
              "\n",
              "        async function convertToInteractive(key) {\n",
              "          const element = document.querySelector('#df-f344ba1e-566d-415d-81df-5fda896dd85e');\n",
              "          const dataTable =\n",
              "            await google.colab.kernel.invokeFunction('convertToInteractive',\n",
              "                                                     [key], {});\n",
              "          if (!dataTable) return;\n",
              "\n",
              "          const docLinkHtml = 'Like what you see? Visit the ' +\n",
              "            '<a target=\"_blank\" href=https://colab.research.google.com/notebooks/data_table.ipynb>data table notebook</a>'\n",
              "            + ' to learn more about interactive tables.';\n",
              "          element.innerHTML = '';\n",
              "          dataTable['output_type'] = 'display_data';\n",
              "          await google.colab.output.renderOutput(dataTable, element);\n",
              "          const docLink = document.createElement('div');\n",
              "          docLink.innerHTML = docLinkHtml;\n",
              "          element.appendChild(docLink);\n",
              "        }\n",
              "      </script>\n",
              "    </div>\n",
              "  </div>\n",
              "  "
            ]
          },
          "metadata": {},
          "execution_count": 66
        }
      ]
    },
    {
      "cell_type": "markdown",
      "source": [],
      "metadata": {
        "id": "xvIv4PKfCOAK"
      }
    },
    {
      "cell_type": "code",
      "source": [
        "data = yf.download(tickers='BTC-USD', period = '700d', interval = '5d')\n",
        "#[1m, 2m, 5m, 15m, 30m, 60m, 90m, 1h, 1d, 5d, 1wk, 1mo, 3mo]\n",
        "close_prices = data.filter(['Close'])\n",
        "last_60_days = close_prices[-60:].values\n",
        "last_60_days_scaled = scaler.transform(last_60_days)\n",
        "X_test = []\n",
        "X_test.append(last_60_days_scaled)\n",
        "X_test = np.array(X_test)\n",
        "X_test = np.reshape(X_test, (X_test.shape[0], X_test.shape[1], 1))\n",
        "pred_price = model.predict(X_test)\n",
        "pred_price = scaler.inverse_transform(pred_price)\n",
        "print(pred_price)"
      ],
      "metadata": {
        "colab": {
          "base_uri": "https://localhost:8080/"
        },
        "id": "bEs6yUFTouFm",
        "outputId": "959f6b82-611c-4f5a-d3a6-9900343253d7"
      },
      "execution_count": null,
      "outputs": [
        {
          "output_type": "stream",
          "name": "stdout",
          "text": [
            "[*********************100%***********************]  1 of 1 completed\n",
            "1/1 [==============================] - 0s 64ms/step\n",
            "[[16736.81]]\n"
          ]
        }
      ]
    }
  ],
  "metadata": {
    "colab": {
      "provenance": [],
      "authorship_tag": "ABX9TyM1+m1zo2jVR7zst4CbXwr1",
      "include_colab_link": true
    },
    "kernelspec": {
      "display_name": "Python 3",
      "name": "python3"
    },
    "language_info": {
      "name": "python"
    }
  },
  "nbformat": 4,
  "nbformat_minor": 0
}